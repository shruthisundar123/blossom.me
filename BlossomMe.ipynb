{
  "nbformat": 4,
  "nbformat_minor": 0,
  "metadata": {
    "colab": {
      "provenance": [],
      "authorship_tag": "ABX9TyN+/yUjGwV6rL09re2+MFxr",
      "include_colab_link": true
    },
    "kernelspec": {
      "name": "python3",
      "display_name": "Python 3"
    },
    "language_info": {
      "name": "python"
    }
  },
  "cells": [
    {
      "cell_type": "markdown",
      "metadata": {
        "id": "view-in-github",
        "colab_type": "text"
      },
      "source": [
        "<a href=\"https://colab.research.google.com/github/shruthisundar123/blossom.me/blob/main/BlossomMe.ipynb\" target=\"_parent\"><img src=\"https://colab.research.google.com/assets/colab-badge.svg\" alt=\"Open In Colab\"/></a>"
      ]
    },
    {
      "cell_type": "markdown",
      "source": [
        "## Installing Required Packages and Importing"
      ],
      "metadata": {
        "id": "SzsDXxYs_-EC"
      }
    },
    {
      "cell_type": "code",
      "source": [
        "!sudo apt install tesseract-ocr \n",
        "!pip install pytesseract"
      ],
      "metadata": {
        "id": "WLwKiS18_DnM"
      },
      "execution_count": null,
      "outputs": []
    },
    {
      "cell_type": "code",
      "source": [
        "import pytesseract\n",
        "try:\n",
        " from PIL import Image\n",
        "except ImportError:\n",
        " import Image"
      ],
      "metadata": {
        "id": "brBvlQKS_GA2"
      },
      "execution_count": 21,
      "outputs": []
    },
    {
      "cell_type": "markdown",
      "source": [
        "## Using Pytesseract to Extract Text From an Image"
      ],
      "metadata": {
        "id": "knsOCWJFK2gh"
      }
    },
    {
      "cell_type": "code",
      "source": [
        "# Specifying the image location\n",
        "image_path_in_colab ='/content/IvesApricot.png'"
      ],
      "metadata": {
        "id": "RYs88YiOLJKC"
      },
      "execution_count": 22,
      "outputs": []
    },
    {
      "cell_type": "code",
      "source": [
        "# Opening the image and extracting the text\n",
        "myPic = Image.open(image_path_in_colab)\n",
        "extractedInformation = pytesseract.image_to_string(myPic)\n",
        "print(extractedInformation)"
      ],
      "metadata": {
        "colab": {
          "base_uri": "https://localhost:8080/"
        },
        "id": "KtC_1bYN_GUZ",
        "outputId": "68690e6f-657d-4e03-fb05-a6ad074ebb56"
      },
      "execution_count": 23,
      "outputs": [
        {
          "output_type": "stream",
          "name": "stdout",
          "text": [
            "INGREDIENTS: WATER (AQUA), JUGLANS REGIA (WALNUT) SHELL\n",
            "POWDER, GLYCERYL STEARATE SE, GLYCERIN, CETEARYL ALCOHOL, ZEA\n",
            "MAYS (CORN) KERNEL MEAL CETYL ALCOHOL, SODIUM LAURYL\n",
            "SULFOACETATE, COCAMIDOPROPYL BETAINE, GLYCERYL STEARATE,\n",
            "PEG-100 STEARATE, CETYL ACETATE, BENZYL ALCOHOL, CETEARETH-20,\n",
            "ACETYLATED LANOLIN ALCOHOL, CARBOMER, POLYSORBATE 60,\n",
            "TRIETHANOLAMINE, FRAGRANCE (PARFUM), DISODIUM EDTA, BENZOIC\n",
            "ACID, SORBIC ACID, PRUNUS ARMENIACA (APRICOT) FRUIT EXTRACT,\n",
            "TITANIUM DIOXIDE (Cl 77891).\n",
            "\f\n"
          ]
        }
      ]
    },
    {
      "cell_type": "code",
      "source": [
        "# Function to format ingredients string by concatenating lines, removing irrelevant words, and splitting the string into a list\n",
        "def formatIngredients(ingredientsString):\n",
        "  noNewLines = ingredientsString.replace(\"\\n\", \" \")\n",
        "  noIngredients = noNewLines[noNewLines.find(':') + 2:]\n",
        "  myList = noIngredients.split(\", \")\n",
        "  return myList"
      ],
      "metadata": {
        "id": "Quvy-kUVG7iO"
      },
      "execution_count": 24,
      "outputs": []
    },
    {
      "cell_type": "code",
      "source": [
        "listIngr = formatIngredients(extractedInformation)\n",
        "print(listIngr)"
      ],
      "metadata": {
        "colab": {
          "base_uri": "https://localhost:8080/"
        },
        "id": "1j8n-DOPHI3s",
        "outputId": "008e9963-8d68-44d6-fa07-d692346488cc"
      },
      "execution_count": 25,
      "outputs": [
        {
          "output_type": "stream",
          "name": "stdout",
          "text": [
            "['WATER (AQUA)', 'JUGLANS REGIA (WALNUT) SHELL POWDER', 'GLYCERYL STEARATE SE', 'GLYCERIN', 'CETEARYL ALCOHOL', 'ZEA MAYS (CORN) KERNEL MEAL CETYL ALCOHOL', 'SODIUM LAURYL SULFOACETATE', 'COCAMIDOPROPYL BETAINE', 'GLYCERYL STEARATE', 'PEG-100 STEARATE', 'CETYL ACETATE', 'BENZYL ALCOHOL', 'CETEARETH-20', 'ACETYLATED LANOLIN ALCOHOL', 'CARBOMER', 'POLYSORBATE 60', 'TRIETHANOLAMINE', 'FRAGRANCE (PARFUM)', 'DISODIUM EDTA', 'BENZOIC ACID', 'SORBIC ACID', 'PRUNUS ARMENIACA (APRICOT) FRUIT EXTRACT', 'TITANIUM DIOXIDE (Cl 77891). \\x0c']\n"
          ]
        }
      ]
    },
    {
      "cell_type": "markdown",
      "source": [
        "## Creating a Text Classifier using Cohere"
      ],
      "metadata": {
        "id": "62cUWWvQLfhW"
      }
    },
    {
      "cell_type": "code",
      "source": [
        "# Installing cohere\n",
        "! pip install cohere > /dev/null"
      ],
      "metadata": {
        "id": "Z7bLrwsr6Ala"
      },
      "execution_count": 26,
      "outputs": []
    },
    {
      "cell_type": "code",
      "source": [
        "import cohere\n",
        "from cohere.classify import Example\n",
        "import numpy as np\n",
        "import pandas as pd\n",
        "from sklearn.model_selection import train_test_split\n",
        "from sklearn.metrics import accuracy_score\n",
        "from sklearn.metrics import f1_score"
      ],
      "metadata": {
        "id": "dtSH_1lXP7q5"
      },
      "execution_count": 7,
      "outputs": []
    },
    {
      "cell_type": "code",
      "source": [
        "# Connecting to the API\n",
        "co = cohere.Client('8DMgbUpwOudhMqWiIZCOreZI74XPk6FApu6WDPop')"
      ],
      "metadata": {
        "id": "Ws6bdgJp67hv"
      },
      "execution_count": 27,
      "outputs": []
    },
    {
      "cell_type": "code",
      "source": [
        "# Classifying Ingredients for Dry Skin\n",
        "response = co.classify(\n",
        "  model='large',\n",
        "  inputs=listIngr,\n",
        "  examples=[Example(\"Ethanol\", \"Bad\"), \n",
        "            Example(\"Isopropyl alcohol\", \"Bad\"),\n",
        "            Example(\"Benzyl alcohol\", \"Bad\"),\n",
        "            Example(\"Cetyl\", \"Good\"),\n",
        "            Example(\"Cetearyl alcohol\", \"Good\"),\n",
        "            Example(\"Glycolic acid\", \"Bad\"),\n",
        "            Example(\"Ceramide\", \"Good\"),\n",
        "            Example(\"Hyaluronic acid\", \"Good\"),\n",
        "            Example(\"Aloe vera\", \"Good\"),\n",
        "            Example(\"Jojoba oil\", \"Good\"),\n",
        "            Example(\"Vitamin E\", \"Good\"),\n",
        "            Example(\"Niacinamide\", \"Good\"),\n",
        "            Example(\"Green tea\", \"Good\"),\n",
        "            Example(\"Copper Peptide\", \"Good\"),\n",
        "            Example(\"Omega 6\", \"Good\"),\n",
        "            Example(\"Salicylic acid\", \"Bad\"),\n",
        "            Example(\"Benzoyl Peroxide\", \"Bad\"),\n",
        "            Example(\"Retinol\", \"Bad\"),\n",
        "            Example(\"Sulfate\", \"Bad\"),\n",
        "            Example(\"Polyethylene glycols\", \"Bad\"),\n",
        "            Example(\"Phthalate\", \"Bad\"),\n",
        "            Example(\"Walnut shell\", \"Bad\"),\n",
        "            Example(\"Phenoxyethanol\", \"Bad\")])\n",
        "\n",
        "\n",
        "print('The confidence levels of the labels are: {}'.format(response.classifications))"
      ],
      "metadata": {
        "colab": {
          "base_uri": "https://localhost:8080/"
        },
        "id": "5OicDQ5E40xV",
        "outputId": "f4d4f403-f8df-4544-89a2-3083d646884f"
      },
      "execution_count": 28,
      "outputs": [
        {
          "output_type": "stream",
          "name": "stdout",
          "text": [
            "The confidence levels of the labels are: [Classification<prediction: \"Good\", confidence: 0.5090138, labels: {'Bad': LabelPrediction(confidence=0.49098623), 'Good': LabelPrediction(confidence=0.5090138)}>, Classification<prediction: \"Bad\", confidence: 0.90868, labels: {'Bad': LabelPrediction(confidence=0.90868), 'Good': LabelPrediction(confidence=0.091319986)}>, Classification<prediction: \"Good\", confidence: 0.7852929, labels: {'Bad': LabelPrediction(confidence=0.21470705), 'Good': LabelPrediction(confidence=0.7852929)}>, Classification<prediction: \"Bad\", confidence: 0.5495171, labels: {'Bad': LabelPrediction(confidence=0.5495171), 'Good': LabelPrediction(confidence=0.4504829)}>, Classification<prediction: \"Good\", confidence: 0.83547884, labels: {'Bad': LabelPrediction(confidence=0.16452119), 'Good': LabelPrediction(confidence=0.83547884)}>, Classification<prediction: \"Good\", confidence: 0.9760005, labels: {'Bad': LabelPrediction(confidence=0.02399952), 'Good': LabelPrediction(confidence=0.9760005)}>, Classification<prediction: \"Bad\", confidence: 0.51117015, labels: {'Bad': LabelPrediction(confidence=0.51117015), 'Good': LabelPrediction(confidence=0.48882982)}>, Classification<prediction: \"Good\", confidence: 0.9748981, labels: {'Bad': LabelPrediction(confidence=0.02510192), 'Good': LabelPrediction(confidence=0.9748981)}>, Classification<prediction: \"Good\", confidence: 0.84707034, labels: {'Bad': LabelPrediction(confidence=0.15292966), 'Good': LabelPrediction(confidence=0.84707034)}>, Classification<prediction: \"Bad\", confidence: 0.5868516, labels: {'Bad': LabelPrediction(confidence=0.5868516), 'Good': LabelPrediction(confidence=0.41314837)}>, Classification<prediction: \"Good\", confidence: 0.8583304, labels: {'Bad': LabelPrediction(confidence=0.14166956), 'Good': LabelPrediction(confidence=0.8583304)}>, Classification<prediction: \"Bad\", confidence: 0.9942107, labels: {'Bad': LabelPrediction(confidence=0.9942107), 'Good': LabelPrediction(confidence=0.005789271)}>, Classification<prediction: \"Good\", confidence: 0.95374984, labels: {'Bad': LabelPrediction(confidence=0.04625014), 'Good': LabelPrediction(confidence=0.95374984)}>, Classification<prediction: \"Good\", confidence: 0.76863706, labels: {'Bad': LabelPrediction(confidence=0.23136291), 'Good': LabelPrediction(confidence=0.76863706)}>, Classification<prediction: \"Bad\", confidence: 0.9630387, labels: {'Bad': LabelPrediction(confidence=0.9630387), 'Good': LabelPrediction(confidence=0.0369613)}>, Classification<prediction: \"Bad\", confidence: 0.988167, labels: {'Bad': LabelPrediction(confidence=0.988167), 'Good': LabelPrediction(confidence=0.0118330335)}>, Classification<prediction: \"Bad\", confidence: 0.9717316, labels: {'Bad': LabelPrediction(confidence=0.9717316), 'Good': LabelPrediction(confidence=0.02826841)}>, Classification<prediction: \"Bad\", confidence: 0.55564594, labels: {'Bad': LabelPrediction(confidence=0.55564594), 'Good': LabelPrediction(confidence=0.44435406)}>, Classification<prediction: \"Bad\", confidence: 0.6655706, labels: {'Bad': LabelPrediction(confidence=0.6655706), 'Good': LabelPrediction(confidence=0.33442935)}>, Classification<prediction: \"Bad\", confidence: 0.9980583, labels: {'Bad': LabelPrediction(confidence=0.9980583), 'Good': LabelPrediction(confidence=0.0019416746)}>, Classification<prediction: \"Bad\", confidence: 0.98804593, labels: {'Bad': LabelPrediction(confidence=0.98804593), 'Good': LabelPrediction(confidence=0.011954057)}>, Classification<prediction: \"Good\", confidence: 0.9722588, labels: {'Bad': LabelPrediction(confidence=0.027741194), 'Good': LabelPrediction(confidence=0.9722588)}>, Classification<prediction: \"Bad\", confidence: 0.9454999, labels: {'Bad': LabelPrediction(confidence=0.9454999), 'Good': LabelPrediction(confidence=0.05450012)}>]\n"
          ]
        }
      ]
    },
    {
      "cell_type": "markdown",
      "source": [
        "## Viewing the Results of the Classifier"
      ],
      "metadata": {
        "id": "EZUwd8LjOG1l"
      }
    },
    {
      "cell_type": "code",
      "source": [
        "# Viewing the clasification of the different ingredients\n",
        "input_texts = [\"Glycerin\", \"Ceramide 3\", \"Benzoate\"]\n",
        "countGood = 0;\n",
        "countTotal = 0;\n",
        "for t, clf in zip(listIngr, response.classifications):\n",
        "  print(f\"input: {t}. label: {clf.prediction}. confidence: {clf.confidence}\")\n",
        "  if (clf.prediction == \"Good\"):\n",
        "      countGood += 1;\n",
        "  countTotal += 1;"
      ],
      "metadata": {
        "colab": {
          "base_uri": "https://localhost:8080/"
        },
        "id": "03W8OOZEFLZU",
        "outputId": "3105bd80-487f-48ff-ddc1-3f3aba4cf093"
      },
      "execution_count": 29,
      "outputs": [
        {
          "output_type": "stream",
          "name": "stdout",
          "text": [
            "input: WATER (AQUA). label: Good. confidence: 0.5090138\n",
            "input: JUGLANS REGIA (WALNUT) SHELL POWDER. label: Bad. confidence: 0.90868\n",
            "input: GLYCERYL STEARATE SE. label: Good. confidence: 0.7852929\n",
            "input: GLYCERIN. label: Bad. confidence: 0.5495171\n",
            "input: CETEARYL ALCOHOL. label: Good. confidence: 0.83547884\n",
            "input: ZEA MAYS (CORN) KERNEL MEAL CETYL ALCOHOL. label: Good. confidence: 0.9760005\n",
            "input: SODIUM LAURYL SULFOACETATE. label: Bad. confidence: 0.51117015\n",
            "input: COCAMIDOPROPYL BETAINE. label: Good. confidence: 0.9748981\n",
            "input: GLYCERYL STEARATE. label: Good. confidence: 0.84707034\n",
            "input: PEG-100 STEARATE. label: Bad. confidence: 0.5868516\n",
            "input: CETYL ACETATE. label: Good. confidence: 0.8583304\n",
            "input: BENZYL ALCOHOL. label: Bad. confidence: 0.9942107\n",
            "input: CETEARETH-20. label: Good. confidence: 0.95374984\n",
            "input: ACETYLATED LANOLIN ALCOHOL. label: Good. confidence: 0.76863706\n",
            "input: CARBOMER. label: Bad. confidence: 0.9630387\n",
            "input: POLYSORBATE 60. label: Bad. confidence: 0.988167\n",
            "input: TRIETHANOLAMINE. label: Bad. confidence: 0.9717316\n",
            "input: FRAGRANCE (PARFUM). label: Bad. confidence: 0.55564594\n",
            "input: DISODIUM EDTA. label: Bad. confidence: 0.6655706\n",
            "input: BENZOIC ACID. label: Bad. confidence: 0.9980583\n",
            "input: SORBIC ACID. label: Bad. confidence: 0.98804593\n",
            "input: PRUNUS ARMENIACA (APRICOT) FRUIT EXTRACT. label: Good. confidence: 0.9722588\n",
            "input: TITANIUM DIOXIDE (Cl 77891). \f. label: Bad. confidence: 0.9454999\n"
          ]
        }
      ]
    },
    {
      "cell_type": "code",
      "source": [
        "# How the product rates as a whole for your skin type\n",
        "percentRecommended = countGood/countTotal\n",
        "print(\"Here is how suitable this product would be for your skin type: {}\\n\".format(percentRecommended))\n",
        "\n",
        "if (percentRecommended > 0.8):\n",
        "  print(\"RECOMMEND: This product is safe and effective for your skin type\")\n",
        "elif (percentRecommended > 0.5):\n",
        "  print(\"CAUTION: This product may not be the most effective for your skin type\")\n",
        "else:\n",
        "  print(\"ALERT: This product may be harmful for your skin type\")"
      ],
      "metadata": {
        "colab": {
          "base_uri": "https://localhost:8080/"
        },
        "id": "i8zuQGExMpXN",
        "outputId": "4d44e557-167e-41e7-a291-94cf7157e83f"
      },
      "execution_count": 30,
      "outputs": [
        {
          "output_type": "stream",
          "name": "stdout",
          "text": [
            "Here is how suitable this product would be for your skin type: 0.43478260869565216\n",
            "\n",
            "ALERT: This product may be harmful for your skin type\n"
          ]
        }
      ]
    }
  ]
}